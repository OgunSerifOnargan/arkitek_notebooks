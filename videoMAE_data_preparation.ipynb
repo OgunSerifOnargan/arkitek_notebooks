{
  "cells": [
    {
      "cell_type": "markdown",
      "metadata": {
        "id": "view-in-github",
        "colab_type": "text"
      },
      "source": [
        "<a href=\"https://colab.research.google.com/github/OgunSerifOnargan/arkitek_notebooks/blob/main/videoMAE_data_preparation.ipynb\" target=\"_parent\"><img src=\"https://colab.research.google.com/assets/colab-badge.svg\" alt=\"Open In Colab\"/></a>"
      ]
    },
    {
      "cell_type": "markdown",
      "metadata": {
        "id": "PYgy38H_-WdA"
      },
      "source": [
        "## Collect Data"
      ]
    },
    {
      "cell_type": "code",
      "execution_count": null,
      "metadata": {
        "colab": {
          "base_uri": "https://localhost:8080/"
        },
        "id": "aagZH1iLx99b",
        "outputId": "b3a7e9c5-0f93-4d4c-a8e6-d652013251ee"
      },
      "outputs": [
        {
          "output_type": "stream",
          "name": "stdout",
          "text": [
            "Mounted at /content/drive\n"
          ]
        }
      ],
      "source": [
        "from google.colab import drive\n",
        "drive.mount('/content/drive')"
      ]
    },
    {
      "cell_type": "code",
      "execution_count": null,
      "metadata": {
        "id": "QTXCwG-vTCbc"
      },
      "outputs": [],
      "source": [
        "import os\n",
        "import pandas as pd\n",
        "import shutil\n",
        "from sklearn.model_selection import train_test_split\n",
        "from tqdm import tqdm\n",
        "import cv2\n",
        "import warnings\n",
        "warnings.filterwarnings('ignore')"
      ]
    },
    {
      "cell_type": "code",
      "execution_count": null,
      "metadata": {
        "id": "ZNnbr1AlrxR5"
      },
      "outputs": [],
      "source": [
        "#output folder creation\n",
        "def videomae_folder_order_creator(output_folder_path, class_names):\n",
        "  shutil.rmtree(output_folder_path, ignore_errors=True)\n",
        "  for folder in [\"train\",\"val\",\"test\"]:\n",
        "    for class_name in class_names:\n",
        "      class_folder_path = output_folder_path + \"/\" + folder + \"/\" + class_name\n",
        "      os.makedirs(class_folder_path, exist_ok=True)\n",
        "\n",
        "def excel_train_val_test_splitter(df_excel, division_ratios):\n",
        "  len_train = int(len(df_excel)*division_ratios[0])\n",
        "  len_val = int(len(df_excel)*division_ratios[1])\n",
        "  len_test = int(len(df_excel)*division_ratios[2])\n",
        "\n",
        "  train_df = df_excel[:len_train]\n",
        "  val_df = df_excel[len_train : (len_train+len_val)]\n",
        "  test_df = df_excel[(len_train+len_val):]\n",
        "\n",
        "  return train_df, val_df, test_df\n",
        "\n",
        "\n",
        "def process_avideo(video_path, label, frame_interval, output_folder_path, folder):\n",
        "\n",
        "  max_frame, min_frame = frame_interval\n",
        "\n",
        "  cap = cv2.VideoCapture(video_path)\n",
        "\n",
        "  new_videos_df = pd.DataFrame(columns=[\"video_name\", \"num_frames\", \"label\"])\n",
        "  frames = []\n",
        "  try:\n",
        "      frame_count = int(cap.get(cv2.CAP_PROP_FRAME_COUNT))\n",
        "      fps = cap.get(cv2.CAP_PROP_FPS)\n",
        "      while True:\n",
        "          ret, frame = cap.read()\n",
        "          if not ret:\n",
        "              break\n",
        "          frames.append(frame)\n",
        "  finally:\n",
        "      cap.release()\n",
        "\n",
        "  video_index = 0\n",
        "  while frames:\n",
        "      video_name = video_path.split(\"/\")[-1].split(\".\")[0]\n",
        "      new_video_path = f\"{output_folder_path}/{folder}/{label}/{video_name}_{video_index}.mp4\"\n",
        "\n",
        "      new_video_frames = frames[:max_frame]\n",
        "      frames = frames[max_frame:]\n",
        "      frame_shape = new_video_frames[0].shape[:2][::-1]\n",
        "\n",
        "      if len(new_video_frames) >= min_frame:\n",
        "        out = cv2.VideoWriter(new_video_path, cv2.VideoWriter_fourcc(*\"mp4v\"), fps, frame_shape)\n",
        "        for frame in new_video_frames:\n",
        "            out.write(frame)\n",
        "        out.release()\n",
        "\n",
        "        new_video_name = new_video_path.split(\"/\")[-1]\n",
        "        new_row = {\"video_name\":new_video_name, \"num_frames\":len(new_video_frames) ,\"label\":label}\n",
        "        new_videos_df = new_videos_df.append(new_row, ignore_index=True)\n",
        "\n",
        "        video_index += 1\n",
        "      else:\n",
        "        break\n",
        "  return new_videos_df\n",
        "\n",
        "\n",
        "def control_folder_size(path):\n",
        "\n",
        "  files = os.listdir(path)\n",
        "\n",
        "  # Count the number of files\n",
        "  num_files = len(files)\n",
        "\n",
        "  print(f\"Number of files in the folder: {num_files}\")\n"
      ]
    },
    {
      "cell_type": "code",
      "execution_count": null,
      "metadata": {
        "id": "wZRrwntTpyG_"
      },
      "outputs": [],
      "source": [
        "def main_data_prep(root_video_folder_path, excel_file_path, output_folder_path, division_ratios, class_names, frame_interval, balanced=False):\n",
        "  #read excel file from original path\n",
        "  df_excel = pd.read_excel(excel_file_path, header=None)\n",
        "\n",
        "  #manipulate labels according to class names\n",
        "  df_excel[2] = df_excel[2].replace({i : class_names[i] for i in df_excel[2].unique()})\n",
        "  classes = df_excel[2].unique()\n",
        "\n",
        "  #output folder creation\n",
        "  videomae_folder_order_creator(output_folder_path, class_names)\n",
        "  df_excel = df_excel.sample(frac=1, random_state=42).reset_index(drop=True)\n",
        "  #dividing data and convert it to df\n",
        "  train_df, val_df, test_df = excel_train_val_test_splitter(df_excel, division_ratios)\n",
        "\n",
        "  df_list = [train_df, val_df, test_df]\n",
        "  df_names = [\"train\", \"val\", \"test\"]\n",
        "\n",
        "  process_counter_main = 0\n",
        "  for i, df in enumerate(df_list):\n",
        "    df_name = df_names[i]\n",
        "    final_df = pd.DataFrame(columns=[\"video_name\", \"num_frames\", \"label\"])\n",
        "\n",
        "    for index, row in tqdm(df.iterrows(), total=len(df), desc=\"Processing videos\"):\n",
        "      video_path = root_video_folder_path + \"/\" + row[0]\n",
        "      label = row[2]\n",
        "\n",
        "      new_videos_df = process_avideo(video_path, label, frame_interval, output_folder_path, df_name)\n",
        "\n",
        "      final_df = pd.concat([final_df, new_videos_df], ignore_index=True)\n",
        "\n",
        "    final_df.to_excel(f\"{output_folder_path}/{df_name}.xlsx\", index=False)\n",
        "  control_folder_size(\"/content/deneme/train/fight\")\n",
        "  control_folder_size(\"/content/deneme/train/no_fight\")\n",
        "\n",
        "  if balanced == True:\n",
        "    train_df_new_path = f\"{output_folder_path}/train.xlsx\"\n",
        "    train_df_new = pd.read_excel(train_df_new_path, header=None)\n",
        "    train_df_new = train_df_new.drop(0)\n",
        "    train_df_new = train_df_new.reset_index(drop=True)\n",
        "    tag_0_rows = train_df_new[train_df_new[2] == classes[0]]\n",
        "    tag_1_rows = train_df_new[train_df_new[2] == classes[1]]\n",
        "\n",
        "    num_samples_0 = len(tag_0_rows)\n",
        "    num_samples_1 = len(tag_1_rows)\n",
        "\n",
        "    if num_samples_1 < num_samples_0:\n",
        "      balanced_tag_0_rows = tag_0_rows.sample(n=num_samples_1, random_state=42)\n",
        "      balanced_df = pd.concat([balanced_tag_0_rows, tag_1_rows], ignore_index=True)\n",
        "    if num_samples_1 > num_samples_0:\n",
        "      balanced_tag_1_rows = tag_1_rows.sample(n=num_samples_0, random_state=42)\n",
        "      balanced_df = pd.concat([balanced_tag_1_rows, tag_0_rows], ignore_index=True)\n",
        "\n",
        "    train_df_last = balanced_df.sample(frac=1, random_state=42).reset_index(drop=True)\n",
        "    video_folder = f\"{output_folder_path}/train\"\n",
        "\n",
        "    for root, dirs, files in os.walk(video_folder):\n",
        "        for file in files:\n",
        "            video_path = os.path.join(root, file)\n",
        "            video_name = video_path.split(\"/\")[-1]\n",
        "            if video_name not in train_df_last[0].values:\n",
        "                print(f\"Deleting video: {video_path}\")\n",
        "                os.remove(video_path)  # Delete the video file\n",
        "\n",
        "    print(\"Cleanup complete. Now, you have balanced training dataset\")\n",
        "    control_folder_size(\"/content/deneme/train/fight\")\n",
        "    control_folder_size(\"/content/deneme/train/no_fight\")\n"
      ]
    },
    {
      "cell_type": "code",
      "execution_count": null,
      "metadata": {
        "colab": {
          "base_uri": "https://localhost:8080/"
        },
        "id": "OUVzLBVrrRyb",
        "outputId": "0cd36d25-94a5-4496-fe45-ae6c42ba1e80"
      },
      "outputs": [
        {
          "output_type": "stream",
          "name": "stderr",
          "text": [
            "Processing videos: 100%|██████████| 1137/1137 [19:02<00:00,  1.00s/it]\n",
            "Processing videos: 100%|██████████| 325/325 [05:22<00:00,  1.01it/s]\n",
            "Processing videos: 100%|██████████| 163/163 [02:40<00:00,  1.01it/s]\n"
          ]
        },
        {
          "output_type": "stream",
          "name": "stdout",
          "text": [
            "Number of files in the folder: 795\n",
            "Number of files in the folder: 934\n",
            "Deleting video: /content/deneme/train/no_fight/ogun_v12_8.mp4\n",
            "Deleting video: /content/deneme/train/no_fight/baran_v82_1.mp4\n",
            "Deleting video: /content/deneme/train/no_fight/arif_v31_0.mp4\n",
            "Deleting video: /content/deneme/train/no_fight/arif_v7_2.mp4\n",
            "Deleting video: /content/deneme/train/no_fight/uygar_v12_15.mp4\n",
            "Deleting video: /content/deneme/train/no_fight/ogun_v28_5.mp4\n",
            "Deleting video: /content/deneme/train/no_fight/arif_v59_2.mp4\n",
            "Deleting video: /content/deneme/train/no_fight/uygar_v102_1.mp4\n",
            "Deleting video: /content/deneme/train/no_fight/ogun_v30_1.mp4\n",
            "Deleting video: /content/deneme/train/no_fight/baran_v127_0.mp4\n",
            "Deleting video: /content/deneme/train/no_fight/ogun_v2_0.mp4\n",
            "Deleting video: /content/deneme/train/no_fight/efe_v267_1.mp4\n",
            "Deleting video: /content/deneme/train/no_fight/uygar_v195_3.mp4\n",
            "Deleting video: /content/deneme/train/no_fight/efe_v133_0.mp4\n",
            "Deleting video: /content/deneme/train/no_fight/arif_v47_1.mp4\n",
            "Deleting video: /content/deneme/train/no_fight/arif_v19_1.mp4\n",
            "Deleting video: /content/deneme/train/no_fight/ogun_v137_0.mp4\n",
            "Deleting video: /content/deneme/train/no_fight/arif_v13_0.mp4\n",
            "Deleting video: /content/deneme/train/no_fight/arif_v363_4.mp4\n",
            "Deleting video: /content/deneme/train/no_fight/ogun_v41_0.mp4\n",
            "Deleting video: /content/deneme/train/no_fight/ogun_v147_1.mp4\n",
            "Deleting video: /content/deneme/train/no_fight/baran_v60_0.mp4\n",
            "Deleting video: /content/deneme/train/no_fight/efe_v194_0.mp4\n",
            "Deleting video: /content/deneme/train/no_fight/uygar_v71_0.mp4\n",
            "Deleting video: /content/deneme/train/no_fight/ogun_v420_0.mp4\n",
            "Deleting video: /content/deneme/train/no_fight/uygar_v14_2.mp4\n",
            "Deleting video: /content/deneme/train/no_fight/baran_v119_0.mp4\n",
            "Deleting video: /content/deneme/train/no_fight/uygar_v12_19.mp4\n",
            "Deleting video: /content/deneme/train/no_fight/baran_v87_5.mp4\n",
            "Deleting video: /content/deneme/train/no_fight/arif_v357_0.mp4\n",
            "Deleting video: /content/deneme/train/no_fight/baran_v85_0.mp4\n",
            "Deleting video: /content/deneme/train/no_fight/uygar_v76_0.mp4\n",
            "Deleting video: /content/deneme/train/no_fight/efe_v204_1.mp4\n",
            "Deleting video: /content/deneme/train/no_fight/uygar_v98_4.mp4\n",
            "Deleting video: /content/deneme/train/no_fight/ogun_v28_6.mp4\n",
            "Deleting video: /content/deneme/train/no_fight/ogun_v155_0.mp4\n",
            "Deleting video: /content/deneme/train/no_fight/arif_v199_0.mp4\n",
            "Deleting video: /content/deneme/train/no_fight/ogun_v43_0.mp4\n",
            "Deleting video: /content/deneme/train/no_fight/ogun_v137_1.mp4\n",
            "Deleting video: /content/deneme/train/no_fight/efe_v222_0.mp4\n",
            "Deleting video: /content/deneme/train/no_fight/ogun_v184_3.mp4\n",
            "Deleting video: /content/deneme/train/no_fight/ogun_v102_0.mp4\n",
            "Deleting video: /content/deneme/train/no_fight/efe_v257_5.mp4\n",
            "Deleting video: /content/deneme/train/no_fight/arif_v47_4.mp4\n",
            "Deleting video: /content/deneme/train/no_fight/arif_v168_3.mp4\n",
            "Deleting video: /content/deneme/train/no_fight/ogun_v167_0.mp4\n",
            "Deleting video: /content/deneme/train/no_fight/arif_v51_1.mp4\n",
            "Deleting video: /content/deneme/train/no_fight/efe_v32_0.mp4\n",
            "Deleting video: /content/deneme/train/no_fight/efe_v131_0.mp4\n",
            "Deleting video: /content/deneme/train/no_fight/baran_v161_0.mp4\n",
            "Deleting video: /content/deneme/train/no_fight/ogun_v66_3.mp4\n",
            "Deleting video: /content/deneme/train/no_fight/baran_v147_0.mp4\n",
            "Deleting video: /content/deneme/train/no_fight/efe_v21_1.mp4\n",
            "Deleting video: /content/deneme/train/no_fight/ogun_v184_9.mp4\n",
            "Deleting video: /content/deneme/train/no_fight/efe_v99_2.mp4\n",
            "Deleting video: /content/deneme/train/no_fight/efe_v7_5.mp4\n",
            "Deleting video: /content/deneme/train/no_fight/arif_v7_4.mp4\n",
            "Deleting video: /content/deneme/train/no_fight/ogun_v66_0.mp4\n",
            "Deleting video: /content/deneme/train/no_fight/efe_v246_1.mp4\n",
            "Deleting video: /content/deneme/train/no_fight/efe_v171_0.mp4\n",
            "Deleting video: /content/deneme/train/no_fight/efe_v99_3.mp4\n",
            "Deleting video: /content/deneme/train/no_fight/ogun_v12_16.mp4\n",
            "Deleting video: /content/deneme/train/no_fight/uygar_v21_0.mp4\n",
            "Deleting video: /content/deneme/train/no_fight/ogun_v191_0.mp4\n",
            "Deleting video: /content/deneme/train/no_fight/ogun_v12_15.mp4\n",
            "Deleting video: /content/deneme/train/no_fight/uygar_v12_18.mp4\n",
            "Deleting video: /content/deneme/train/no_fight/ogun_v73_0.mp4\n",
            "Deleting video: /content/deneme/train/no_fight/ogun_v123_0.mp4\n",
            "Deleting video: /content/deneme/train/no_fight/arif_v30_1.mp4\n",
            "Deleting video: /content/deneme/train/no_fight/uygar_v12_12.mp4\n",
            "Deleting video: /content/deneme/train/no_fight/uygar_v6_1.mp4\n",
            "Deleting video: /content/deneme/train/no_fight/uygar_v103_2.mp4\n",
            "Deleting video: /content/deneme/train/no_fight/ogun_v12_0.mp4\n",
            "Deleting video: /content/deneme/train/no_fight/efe_v189_0.mp4\n",
            "Deleting video: /content/deneme/train/no_fight/ogun_v65_1.mp4\n",
            "Deleting video: /content/deneme/train/no_fight/uygar_v32_0.mp4\n",
            "Deleting video: /content/deneme/train/no_fight/arif_v65_1.mp4\n",
            "Deleting video: /content/deneme/train/no_fight/arif_v30_0.mp4\n",
            "Deleting video: /content/deneme/train/no_fight/ogun_v107_1.mp4\n",
            "Deleting video: /content/deneme/train/no_fight/arif_v124_0.mp4\n",
            "Deleting video: /content/deneme/train/no_fight/uygar_v98_5.mp4\n",
            "Deleting video: /content/deneme/train/no_fight/ogun_v110_4.mp4\n",
            "Deleting video: /content/deneme/train/no_fight/uygar_v111_0.mp4\n",
            "Deleting video: /content/deneme/train/no_fight/uygar_v51_0.mp4\n",
            "Deleting video: /content/deneme/train/no_fight/arif_v65_2.mp4\n",
            "Deleting video: /content/deneme/train/no_fight/uygar_v107_0.mp4\n",
            "Deleting video: /content/deneme/train/no_fight/ogun_v58_2.mp4\n",
            "Deleting video: /content/deneme/train/no_fight/arif_v107_1.mp4\n",
            "Deleting video: /content/deneme/train/no_fight/uygar_v12_6.mp4\n",
            "Deleting video: /content/deneme/train/no_fight/baran_v154_0.mp4\n",
            "Deleting video: /content/deneme/train/no_fight/efe_v122_0.mp4\n",
            "Deleting video: /content/deneme/train/no_fight/baran_v121_0.mp4\n",
            "Deleting video: /content/deneme/train/no_fight/baran_v101_1.mp4\n",
            "Deleting video: /content/deneme/train/no_fight/uygar_v196_0.mp4\n",
            "Deleting video: /content/deneme/train/no_fight/efe_v133_1.mp4\n",
            "Deleting video: /content/deneme/train/no_fight/uygar_v98_10.mp4\n",
            "Deleting video: /content/deneme/train/no_fight/uygar_v12_14.mp4\n",
            "Deleting video: /content/deneme/train/no_fight/baran_v47_0.mp4\n",
            "Deleting video: /content/deneme/train/no_fight/uygar_v195_1.mp4\n",
            "Deleting video: /content/deneme/train/no_fight/uygar_v98_0.mp4\n",
            "Deleting video: /content/deneme/train/no_fight/ogun_v58_9.mp4\n",
            "Deleting video: /content/deneme/train/no_fight/ogun_v183_0.mp4\n",
            "Deleting video: /content/deneme/train/no_fight/uygar_v102_0.mp4\n",
            "Deleting video: /content/deneme/train/no_fight/ogun_v66_2.mp4\n",
            "Deleting video: /content/deneme/train/no_fight/baran_v105_0.mp4\n",
            "Deleting video: /content/deneme/train/no_fight/arif_v370_0.mp4\n",
            "Deleting video: /content/deneme/train/no_fight/efe_v102_0.mp4\n",
            "Deleting video: /content/deneme/train/no_fight/arif_v205_0.mp4\n",
            "Deleting video: /content/deneme/train/no_fight/uygar_v14_0.mp4\n",
            "Deleting video: /content/deneme/train/no_fight/arif_v82_0.mp4\n",
            "Deleting video: /content/deneme/train/no_fight/arif_v11_0.mp4\n",
            "Deleting video: /content/deneme/train/no_fight/ogun_v192_0.mp4\n",
            "Deleting video: /content/deneme/train/no_fight/baran_v20_0.mp4\n",
            "Deleting video: /content/deneme/train/no_fight/efe_v79_0.mp4\n",
            "Deleting video: /content/deneme/train/no_fight/ogun_v416_0.mp4\n",
            "Deleting video: /content/deneme/train/no_fight/ogun_v99_0.mp4\n",
            "Deleting video: /content/deneme/train/no_fight/efe_v94_0.mp4\n",
            "Deleting video: /content/deneme/train/no_fight/arif_v58_0.mp4\n",
            "Deleting video: /content/deneme/train/no_fight/efe_v212_0.mp4\n",
            "Deleting video: /content/deneme/train/no_fight/arif_v35_0.mp4\n",
            "Deleting video: /content/deneme/train/no_fight/efe_v91_1.mp4\n",
            "Deleting video: /content/deneme/train/no_fight/baran_v5_5.mp4\n",
            "Deleting video: /content/deneme/train/no_fight/baran_v159_0.mp4\n",
            "Deleting video: /content/deneme/train/no_fight/baran_v53_0.mp4\n",
            "Deleting video: /content/deneme/train/no_fight/ogun_v184_5.mp4\n",
            "Deleting video: /content/deneme/train/no_fight/baran_v87_3.mp4\n",
            "Deleting video: /content/deneme/train/no_fight/ogun_v12_13.mp4\n",
            "Deleting video: /content/deneme/train/no_fight/baran_v21_1.mp4\n",
            "Deleting video: /content/deneme/train/no_fight/ogun_v137_2.mp4\n",
            "Deleting video: /content/deneme/train/no_fight/ogun_v169_0.mp4\n",
            "Deleting video: /content/deneme/train/no_fight/ogun_v66_4.mp4\n",
            "Deleting video: /content/deneme/train/no_fight/baran_v5_3.mp4\n",
            "Deleting video: /content/deneme/train/no_fight/uygar_v57_1.mp4\n",
            "Deleting video: /content/deneme/train/no_fight/arif_v75_1.mp4\n",
            "Deleting video: /content/deneme/train/no_fight/efe_v50_1.mp4\n",
            "Deleting video: /content/deneme/train/no_fight/efe_v257_4.mp4\n",
            "Deleting video: /content/deneme/train/no_fight/efe_v48_0.mp4\n",
            "Deleting video: /content/deneme/train/no_fight/arif_v55_0.mp4\n",
            "Deleting video: /content/deneme/train/no_fight/arif_v7_0.mp4\n",
            "Cleanup complete. Now, you have balanced training dataset\n",
            "Number of files in the folder: 795\n",
            "Number of files in the folder: 795\n"
          ]
        }
      ],
      "source": [
        "main_data_prep(root_video_folder_path=\"/content/drive/MyDrive/arkitek_fobi_analiz/Model_Datasets/video_classification/fight/training_videos_19-09/all_fight/scenes\",\n",
        "               excel_file_path=\"/content/drive/MyDrive/arkitek_fobi_analiz/Model_Datasets/video_classification/fight/training_videos_19-09/all_fight/all_updated_video_paths_final.xlsx\",\n",
        "               output_folder_path=\"/content/deneme\",\n",
        "               division_ratios=[0.7, 0.2, 0.1],\n",
        "               class_names=[\"no_fight\", \"fight\"],\n",
        "               frame_interval=[30, 25],\n",
        "               balanced=True)"
      ]
    },
    {
      "cell_type": "code",
      "source": [
        "control_folder_size(\"/content/deneme/train/no_fight\")"
      ],
      "metadata": {
        "id": "dB5riXhKfcBk",
        "outputId": "ea3f43a5-de6b-4bd4-c3f4-9ba5aee0c6d9",
        "colab": {
          "base_uri": "https://localhost:8080/"
        }
      },
      "execution_count": null,
      "outputs": [
        {
          "output_type": "stream",
          "name": "stdout",
          "text": [
            "Number of files in the folder: 795\n"
          ]
        }
      ]
    },
    {
      "cell_type": "code",
      "source": [],
      "metadata": {
        "id": "2PscpJ-0lPjU"
      },
      "execution_count": null,
      "outputs": []
    }
  ],
  "metadata": {
    "accelerator": "GPU",
    "colab": {
      "machine_shape": "hm",
      "provenance": [],
      "include_colab_link": true
    },
    "kernelspec": {
      "display_name": "Python 3",
      "name": "python3"
    },
    "language_info": {
      "codemirror_mode": {
        "name": "ipython",
        "version": 3
      },
      "file_extension": ".py",
      "mimetype": "text/x-python",
      "name": "python",
      "nbconvert_exporter": "python",
      "pygments_lexer": "ipython3",
      "version": "3.5.3"
    }
  },
  "nbformat": 4,
  "nbformat_minor": 0
}