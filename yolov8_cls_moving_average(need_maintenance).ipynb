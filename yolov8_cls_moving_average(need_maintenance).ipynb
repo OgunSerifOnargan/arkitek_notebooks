{
  "cells": [
    {
      "cell_type": "markdown",
      "metadata": {
        "id": "view-in-github",
        "colab_type": "text"
      },
      "source": [
        "<a href=\"https://colab.research.google.com/github/OgunSerifOnargan/arkitek_notebooks/blob/main/yolov8_cls_moving_average(need_maintenance).ipynb\" target=\"_parent\"><img src=\"https://colab.research.google.com/assets/colab-badge.svg\" alt=\"Open In Colab\"/></a>"
      ]
    },
    {
      "cell_type": "code",
      "execution_count": null,
      "metadata": {
        "colab": {
          "base_uri": "https://localhost:8080/",
          "height": 434
        },
        "id": "BN4c9svSbUMd",
        "outputId": "bec488c9-5ab7-4967-9beb-67eb817e1585"
      },
      "outputs": [
        {
          "output_type": "error",
          "ename": "MessageError",
          "evalue": "ignored",
          "traceback": [
            "\u001b[0;31m---------------------------------------------------------------------------\u001b[0m",
            "\u001b[0;31mMessageError\u001b[0m                              Traceback (most recent call last)",
            "\u001b[0;32m<ipython-input-1-bff660b14fab>\u001b[0m in \u001b[0;36m<cell line: 4>\u001b[0;34m()\u001b[0m\n\u001b[1;32m      2\u001b[0m \u001b[0;32mfrom\u001b[0m \u001b[0mIPython\u001b[0m \u001b[0;32mimport\u001b[0m \u001b[0mdisplay\u001b[0m\u001b[0;34m\u001b[0m\u001b[0;34m\u001b[0m\u001b[0m\n\u001b[1;32m      3\u001b[0m \u001b[0;32mimport\u001b[0m \u001b[0mos\u001b[0m\u001b[0;34m\u001b[0m\u001b[0;34m\u001b[0m\u001b[0m\n\u001b[0;32m----> 4\u001b[0;31m \u001b[0mdrive\u001b[0m\u001b[0;34m.\u001b[0m\u001b[0mmount\u001b[0m\u001b[0;34m(\u001b[0m\u001b[0;34m'/content/drive'\u001b[0m\u001b[0;34m)\u001b[0m\u001b[0;34m\u001b[0m\u001b[0;34m\u001b[0m\u001b[0m\n\u001b[0m",
            "\u001b[0;32m/usr/local/lib/python3.10/dist-packages/google/colab/drive.py\u001b[0m in \u001b[0;36mmount\u001b[0;34m(mountpoint, force_remount, timeout_ms, readonly)\u001b[0m\n\u001b[1;32m    101\u001b[0m \u001b[0;32mdef\u001b[0m \u001b[0mmount\u001b[0m\u001b[0;34m(\u001b[0m\u001b[0mmountpoint\u001b[0m\u001b[0;34m,\u001b[0m \u001b[0mforce_remount\u001b[0m\u001b[0;34m=\u001b[0m\u001b[0;32mFalse\u001b[0m\u001b[0;34m,\u001b[0m \u001b[0mtimeout_ms\u001b[0m\u001b[0;34m=\u001b[0m\u001b[0;36m120000\u001b[0m\u001b[0;34m,\u001b[0m \u001b[0mreadonly\u001b[0m\u001b[0;34m=\u001b[0m\u001b[0;32mFalse\u001b[0m\u001b[0;34m)\u001b[0m\u001b[0;34m:\u001b[0m\u001b[0;34m\u001b[0m\u001b[0;34m\u001b[0m\u001b[0m\n\u001b[1;32m    102\u001b[0m   \u001b[0;34m\"\"\"Mount your Google Drive at the specified mountpoint path.\"\"\"\u001b[0m\u001b[0;34m\u001b[0m\u001b[0;34m\u001b[0m\u001b[0m\n\u001b[0;32m--> 103\u001b[0;31m   return _mount(\n\u001b[0m\u001b[1;32m    104\u001b[0m       \u001b[0mmountpoint\u001b[0m\u001b[0;34m,\u001b[0m\u001b[0;34m\u001b[0m\u001b[0;34m\u001b[0m\u001b[0m\n\u001b[1;32m    105\u001b[0m       \u001b[0mforce_remount\u001b[0m\u001b[0;34m=\u001b[0m\u001b[0mforce_remount\u001b[0m\u001b[0;34m,\u001b[0m\u001b[0;34m\u001b[0m\u001b[0;34m\u001b[0m\u001b[0m\n",
            "\u001b[0;32m/usr/local/lib/python3.10/dist-packages/google/colab/drive.py\u001b[0m in \u001b[0;36m_mount\u001b[0;34m(mountpoint, force_remount, timeout_ms, ephemeral, readonly)\u001b[0m\n\u001b[1;32m    130\u001b[0m   )\n\u001b[1;32m    131\u001b[0m   \u001b[0;32mif\u001b[0m \u001b[0mephemeral\u001b[0m\u001b[0;34m:\u001b[0m\u001b[0;34m\u001b[0m\u001b[0;34m\u001b[0m\u001b[0m\n\u001b[0;32m--> 132\u001b[0;31m     _message.blocking_request(\n\u001b[0m\u001b[1;32m    133\u001b[0m         \u001b[0;34m'request_auth'\u001b[0m\u001b[0;34m,\u001b[0m \u001b[0mrequest\u001b[0m\u001b[0;34m=\u001b[0m\u001b[0;34m{\u001b[0m\u001b[0;34m'authType'\u001b[0m\u001b[0;34m:\u001b[0m \u001b[0;34m'dfs_ephemeral'\u001b[0m\u001b[0;34m}\u001b[0m\u001b[0;34m,\u001b[0m \u001b[0mtimeout_sec\u001b[0m\u001b[0;34m=\u001b[0m\u001b[0;32mNone\u001b[0m\u001b[0;34m\u001b[0m\u001b[0;34m\u001b[0m\u001b[0m\n\u001b[1;32m    134\u001b[0m     )\n",
            "\u001b[0;32m/usr/local/lib/python3.10/dist-packages/google/colab/_message.py\u001b[0m in \u001b[0;36mblocking_request\u001b[0;34m(request_type, request, timeout_sec, parent)\u001b[0m\n\u001b[1;32m    174\u001b[0m       \u001b[0mrequest_type\u001b[0m\u001b[0;34m,\u001b[0m \u001b[0mrequest\u001b[0m\u001b[0;34m,\u001b[0m \u001b[0mparent\u001b[0m\u001b[0;34m=\u001b[0m\u001b[0mparent\u001b[0m\u001b[0;34m,\u001b[0m \u001b[0mexpect_reply\u001b[0m\u001b[0;34m=\u001b[0m\u001b[0;32mTrue\u001b[0m\u001b[0;34m\u001b[0m\u001b[0;34m\u001b[0m\u001b[0m\n\u001b[1;32m    175\u001b[0m   )\n\u001b[0;32m--> 176\u001b[0;31m   \u001b[0;32mreturn\u001b[0m \u001b[0mread_reply_from_input\u001b[0m\u001b[0;34m(\u001b[0m\u001b[0mrequest_id\u001b[0m\u001b[0;34m,\u001b[0m \u001b[0mtimeout_sec\u001b[0m\u001b[0;34m)\u001b[0m\u001b[0;34m\u001b[0m\u001b[0;34m\u001b[0m\u001b[0m\n\u001b[0m",
            "\u001b[0;32m/usr/local/lib/python3.10/dist-packages/google/colab/_message.py\u001b[0m in \u001b[0;36mread_reply_from_input\u001b[0;34m(message_id, timeout_sec)\u001b[0m\n\u001b[1;32m    101\u001b[0m     ):\n\u001b[1;32m    102\u001b[0m       \u001b[0;32mif\u001b[0m \u001b[0;34m'error'\u001b[0m \u001b[0;32min\u001b[0m \u001b[0mreply\u001b[0m\u001b[0;34m:\u001b[0m\u001b[0;34m\u001b[0m\u001b[0;34m\u001b[0m\u001b[0m\n\u001b[0;32m--> 103\u001b[0;31m         \u001b[0;32mraise\u001b[0m \u001b[0mMessageError\u001b[0m\u001b[0;34m(\u001b[0m\u001b[0mreply\u001b[0m\u001b[0;34m[\u001b[0m\u001b[0;34m'error'\u001b[0m\u001b[0;34m]\u001b[0m\u001b[0;34m)\u001b[0m\u001b[0;34m\u001b[0m\u001b[0;34m\u001b[0m\u001b[0m\n\u001b[0m\u001b[1;32m    104\u001b[0m       \u001b[0;32mreturn\u001b[0m \u001b[0mreply\u001b[0m\u001b[0;34m.\u001b[0m\u001b[0mget\u001b[0m\u001b[0;34m(\u001b[0m\u001b[0;34m'data'\u001b[0m\u001b[0;34m,\u001b[0m \u001b[0;32mNone\u001b[0m\u001b[0;34m)\u001b[0m\u001b[0;34m\u001b[0m\u001b[0;34m\u001b[0m\u001b[0m\n\u001b[1;32m    105\u001b[0m \u001b[0;34m\u001b[0m\u001b[0m\n",
            "\u001b[0;31mMessageError\u001b[0m: Error: credential propagation was unsuccessful"
          ]
        }
      ],
      "source": [
        "from google.colab import drive\n",
        "from IPython import display\n",
        "import os\n",
        "drive.mount('/content/drive')"
      ]
    },
    {
      "cell_type": "code",
      "execution_count": null,
      "metadata": {
        "id": "ROzlQXp2dvwq"
      },
      "outputs": [],
      "source": [
        "# değiştirilecek path'ler\n",
        "isim = 'uygar'\n",
        "drive_raw_videos_path = f\"/content/drive/MyDrive/classify/raw_videos/blood/{isim}/preprocess\" # predict edilecek videoların dosya yolu\n",
        "output_drive = f'/content/drive/MyDrive/classify/colab_test_videos/blood/{isim}'  # predict edilmiş videoların toplanacağı drive dosya yolu\n",
        "colab_videos_path = \"/content/videos/\""
      ]
    },
    {
      "cell_type": "code",
      "execution_count": null,
      "metadata": {
        "id": "0bhqX-DCVCGs"
      },
      "outputs": [],
      "source": [
        "os.makedirs(\"/content/output_videos/\",exist_ok=True)\n",
        "os.makedirs('/content/models/', exist_ok=True)"
      ]
    },
    {
      "cell_type": "code",
      "execution_count": null,
      "metadata": {
        "colab": {
          "base_uri": "https://localhost:8080/",
          "height": 35
        },
        "id": "NCBbQVXBcRtU",
        "outputId": "90898730-f364-4f50-f150-9b74943ae638"
      },
      "outputs": [
        {
          "output_type": "execute_result",
          "data": {
            "text/plain": [
              "'/content/models/LATEST_blood_v6.pt'"
            ],
            "application/vnd.google.colaboratory.intrinsic+json": {
              "type": "string"
            }
          },
          "metadata": {},
          "execution_count": 4
        }
      ],
      "source": [
        "import shutil\n",
        "model_path = '/content/models/'\n",
        "shutil.copy('/content/drive/MyDrive/classify/models/LATEST_blood_v6.pt',model_path)"
      ]
    },
    {
      "cell_type": "code",
      "source": [
        "shutil.copy('/content/drive/MyDrive/classify/raw_videos/blood/uygar/finished/midsommar_1.mp4','/content/videos')"
      ],
      "metadata": {
        "colab": {
          "base_uri": "https://localhost:8080/",
          "height": 35
        },
        "id": "eiMIEnOYhNpt",
        "outputId": "8b02a962-6f74-48e7-891f-16343c11d9af"
      },
      "execution_count": null,
      "outputs": [
        {
          "output_type": "execute_result",
          "data": {
            "text/plain": [
              "'/content/videos/midsommar_1.mp4'"
            ],
            "application/vnd.google.colaboratory.intrinsic+json": {
              "type": "string"
            }
          },
          "metadata": {},
          "execution_count": 9
        }
      ]
    },
    {
      "cell_type": "code",
      "execution_count": null,
      "metadata": {
        "id": "zZYuSSrlbyaY"
      },
      "outputs": [],
      "source": [
        "!pip install ultralytics\n",
        "\n",
        "display.clear_output()"
      ]
    },
    {
      "cell_type": "code",
      "execution_count": null,
      "metadata": {
        "cellView": "form",
        "id": "iYc3LTrCnCJo"
      },
      "outputs": [],
      "source": [
        "# @title\n",
        "!pip install yt_dlp\n",
        "import yt_dlp\n",
        "def download_playlist(playlist_url, output_folder):\n",
        "    ydl_opts = {\n",
        "        'format': 'best',\n",
        "        'quiet': False,\n",
        "        'outtmpl': os.path.join(output_folder, '%(playlist_index)s - %(title)s.%(ext)s'),\n",
        "    }\n",
        "\n",
        "    with yt_dlp.YoutubeDL(ydl_opts) as ydl:\n",
        "        try:\n",
        "            ydl.download([playlist_url])\n",
        "        except:\n",
        "             pass\n",
        "\n",
        "def download_video(video_url, output_folder):\n",
        "    ydl_opts = {\n",
        "        'format': 'best',\n",
        "        'quiet': False,\n",
        "        'outtmpl': os.path.join(output_folder, '%(title)s.%(ext)s'),\n",
        "    }\n",
        "\n",
        "    with yt_dlp.YoutubeDL(ydl_opts) as ydl:\n",
        "        try:\n",
        "            ydl.download([video_url])\n",
        "            print(\"Video indirme tamamlandı.\")\n",
        "        except Exception as e:\n",
        "            print(f'Hata oluştu: {str(e)}')\n",
        "\n",
        "def rename_file_replace_char(file_path, old_char_list, new_char):\n",
        "    filename = os.path.basename(file_path)\n",
        "    for old_char in old_char_list:\n",
        "        filename = filename.replace(old_char, new_char)\n",
        "\n",
        "    new_file_path = os.path.join(os.path.dirname(file_path), filename)\n",
        "    os.rename(file_path, new_file_path)\n",
        "\n",
        "\n",
        "\n",
        "display.clear_output()\n"
      ]
    },
    {
      "cell_type": "markdown",
      "metadata": {
        "id": "wDHsFSzrc6_m"
      },
      "source": [
        "## **Playlist Downloader**"
      ]
    },
    {
      "cell_type": "code",
      "execution_count": null,
      "metadata": {
        "id": "TcnqMoXOnwe7"
      },
      "outputs": [],
      "source": [
        "!pip install yt_dlp\n",
        "os.makedirs(colab_videos_path, exist_ok = True)\n",
        "display.clear_output()"
      ]
    },
    {
      "cell_type": "code",
      "execution_count": null,
      "metadata": {
        "id": "ZVzg_2bvn0vR"
      },
      "outputs": [],
      "source": [
        "url = r'https://youtube.com/playlist?list=PL00nAaYo53pgWTxSo3peJlEYI5WS95WA-&si=wn-fIrqfeScPAoUX'\n",
        "download_playlist(url,colab_videos_path)\n",
        "display.clear_output()\n",
        "print('Success!')"
      ]
    },
    {
      "cell_type": "markdown",
      "metadata": {
        "id": "QSpssj2-dCxT"
      },
      "source": [
        "# **Drive Videos**"
      ]
    },
    {
      "cell_type": "code",
      "execution_count": null,
      "metadata": {
        "id": "D3qq1e-B1KiL"
      },
      "outputs": [],
      "source": [
        "# shutil.rmtree('/content/videos')"
      ]
    },
    {
      "cell_type": "code",
      "execution_count": null,
      "metadata": {
        "colab": {
          "base_uri": "https://localhost:8080/",
          "height": 35
        },
        "id": "lCqn6hzrdNnc",
        "outputId": "bc251fb8-3f8c-4691-b749-b50b615d292e"
      },
      "outputs": [
        {
          "data": {
            "application/vnd.google.colaboratory.intrinsic+json": {
              "type": "string"
            },
            "text/plain": [
              "'/content/videos/'"
            ]
          },
          "execution_count": 10,
          "metadata": {},
          "output_type": "execute_result"
        }
      ],
      "source": [
        "import shutil\n",
        "shutil.copytree(drive_raw_videos_path,colab_videos_path)"
      ]
    },
    {
      "cell_type": "code",
      "execution_count": null,
      "metadata": {
        "id": "AGxgvIMxQf2a"
      },
      "outputs": [],
      "source": [
        "# videos klasörünün içindeki isimleri güncelleme\n",
        "videos_path=\"/content/videos/\"\n",
        "if not os.path.exists(videos_path):\n",
        "        os.makedirs(videos_path)\n",
        "oldchars = ['!','：','｜','⧸','？',' ','\"','#','$','%','&','(',')',' ','*','+',',','-','/',':',';''<','=','>','?','@','[','\\\\',']','^','_','`','{','|','}','~']\n",
        "\n",
        "for root,dirs,files in os.walk(videos_path):\n",
        "    for file in files:\n",
        "        video_path = os.path.join(root,file)\n",
        "        rename_file_replace_char(old_char_list=oldchars,new_char='',file_path=video_path)\n",
        "        SOURCE_VIDEO_PATH=video_path\n",
        "        file_name = file.split('/')[0]\n",
        "        print(file_name)"
      ]
    },
    {
      "cell_type": "code",
      "execution_count": null,
      "metadata": {
        "colab": {
          "base_uri": "https://localhost:8080/"
        },
        "id": "OSIoXvr7cJle",
        "outputId": "7d1e77b9-98c4-4c2f-fb4e-a9c9041f3f68"
      },
      "outputs": [
        {
          "output_type": "stream",
          "name": "stderr",
          "text": [
            "\r  0%|          | 0/5833 [00:00<?, ?frames/s]Downloading https://ultralytics.com/assets/Arial.ttf to '/root/.config/Ultralytics/Arial.ttf'...\n",
            "\n",
            "100%|██████████| 755k/755k [00:00<00:00, 18.8MB/s]\n",
            "100%|██████████| 5833/5833 [22:55<00:00,  4.24frames/s]\n"
          ]
        }
      ],
      "source": [
        "import cv2\n",
        "import numpy as np\n",
        "from ultralytics import YOLO\n",
        "from tqdm import tqdm\n",
        "\n",
        "# Load the YOLOv8 model\n",
        "model = YOLO(r'/content/models/LATEST_blood_v6.pt')\n",
        "\n",
        "# Define the number of frames for the moving average\n",
        "moving_average_frames = 10  # You can adjust this value as needed\n",
        "\n",
        "# Create a list to store the frames for the moving average\n",
        "frame_buffer = []\n",
        "\n",
        "for root, dirs, files in os.walk(videos_path):\n",
        "    for file in files:\n",
        "\n",
        "        # Open the video file\n",
        "        video_path = os.path.join(root, file)\n",
        "        cap = cv2.VideoCapture(video_path)\n",
        "        video_name = file.split('.')[0]\n",
        "\n",
        "        # Video dosyasının çözünürlüğü ve fps değeri\n",
        "        frame_width = int(cap.get(3))\n",
        "        frame_height = int(cap.get(4))\n",
        "        fps = 30  # Örnek olarak 30 FPS kullanıldı, uygun bir değer seçmelisiniz\n",
        "\n",
        "        # VideoWriter objesini oluşturun\n",
        "        fourcc = cv2.VideoWriter_fourcc(*'mp4v')  # Video codec'i, kullanılabilir diğer codec'leri de deneyebilirsiniz\n",
        "        out = cv2.VideoWriter(f'/content/output_videos/{video_name}.mp4', fourcc, fps, (frame_width, frame_height))\n",
        "\n",
        "        cap = cv2.VideoCapture(video_path)\n",
        "\n",
        "        # Get the total number of frames in the video\n",
        "        total_frames = int(cap.get(cv2.CAP_PROP_FRAME_COUNT))\n",
        "\n",
        "        # Create a tqdm progress bar\n",
        "        progress_bar = tqdm(total=total_frames, unit=\"frames\")\n",
        "\n",
        "        # Loop through the video frames\n",
        "        while cap.isOpened():\n",
        "            # Read a frame from the video\n",
        "            success, frame = cap.read()\n",
        "\n",
        "            if success:\n",
        "                # Append the frame to the frame buffer\n",
        "                frame_buffer.append(frame)\n",
        "\n",
        "                # If the buffer size exceeds the specified moving_average_frames, calculate the moving average\n",
        "                if len(frame_buffer) > moving_average_frames:\n",
        "                    frame_buffer.pop(0)  # Remove the oldest frame\n",
        "\n",
        "                # Calculate the moving average frame\n",
        "                moving_average_frame = np.mean(frame_buffer, axis=0).astype(np.uint8)\n",
        "\n",
        "                # Run YOLOv8 inference on the moving average frame\n",
        "                results = model(moving_average_frame, verbose=False)\n",
        "\n",
        "                # Visualize the results on the moving average frame\n",
        "                annotated_frame = results[0].plot()\n",
        "\n",
        "                # Write the annotated frame to the output video\n",
        "                out.write(annotated_frame)\n",
        "\n",
        "                # Update the progress bar\n",
        "                progress_bar.update(1)\n",
        "\n",
        "                # Display the annotated frame\n",
        "                # cv2.imshow(\"YOLOv8 Inference\", annotated_frame)\n",
        "\n",
        "                # Break the loop if 'q' is pressed\n",
        "                if cv2.waitKey(1) & 0xFF == ord(\"q\"):\n",
        "                    break\n",
        "            else:\n",
        "                # Break the loop if the end of the video is reached\n",
        "                break\n",
        "\n",
        "        # Release the video capture and writer objects, and close the display window\n",
        "        cap.release()\n",
        "        out.release()\n",
        "        cv2.destroyAllWindows()\n",
        "        #\n",
        "        shutil.copy(f'/content/output_videos/{video_name}.mp4', f\"{output_drive}/{video_name}_mv10.mp4\")\n",
        "        progress_bar.close()\n"
      ]
    },
    {
      "cell_type": "code",
      "execution_count": null,
      "metadata": {
        "colab": {
          "base_uri": "https://localhost:8080/",
          "height": 35
        },
        "id": "Mc4YSij_peDU",
        "outputId": "ad570301-3c8f-4a82-e04a-5c929af7986b"
      },
      "outputs": [
        {
          "data": {
            "application/vnd.google.colaboratory.intrinsic+json": {
              "type": "string"
            },
            "text/plain": [
              "'/content/drive/MyDrive/colab_test_videos/height/1ThisiswhatIthoughtwhileskydivingmp4.mp4'"
            ]
          },
          "execution_count": 13,
          "metadata": {},
          "output_type": "execute_result"
        }
      ],
      "source": [
        "shutil.copy(\"/content/output_videos/1ThisiswhatIthoughtwhileskydivingmp4.mp4\",\"/content/drive/MyDrive/colab_test_videos/height\")"
      ]
    }
  ],
  "metadata": {
    "accelerator": "GPU",
    "colab": {
      "collapsed_sections": [
        "wDHsFSzrc6_m"
      ],
      "provenance": [],
      "include_colab_link": true
    },
    "kernelspec": {
      "display_name": "Python 3",
      "name": "python3"
    },
    "language_info": {
      "name": "python"
    }
  },
  "nbformat": 4,
  "nbformat_minor": 0
}