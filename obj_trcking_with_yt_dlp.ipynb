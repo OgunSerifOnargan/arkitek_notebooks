{
  "cells": [
    {
      "cell_type": "markdown",
      "metadata": {
        "id": "view-in-github",
        "colab_type": "text"
      },
      "source": [
        "<a href=\"https://colab.research.google.com/github/OgunSerifOnargan/arkitek_notebooks/blob/main/obj_trcking_with_yt_dlp.ipynb\" target=\"_parent\"><img src=\"https://colab.research.google.com/assets/colab-badge.svg\" alt=\"Open In Colab\"/></a>"
      ]
    },
    {
      "cell_type": "code",
      "execution_count": null,
      "metadata": {
        "id": "yy6depTECVoZ"
      },
      "outputs": [],
      "source": [
        "from google.colab import drive\n",
        "drive.mount('/content/drive')"
      ]
    },
    {
      "cell_type": "code",
      "execution_count": null,
      "metadata": {
        "id": "lwK9QcNGnSQW"
      },
      "outputs": [],
      "source": [
        "!nvidia-smi\n",
        "\n",
        "import os\n",
        "HOME = os.getcwd()\n",
        "print(HOME)\n",
        "\n",
        "# Pip install method (recommended)\n",
        "\n",
        "!pip install ultralytics\n",
        "\n",
        "from IPython import display\n",
        "display.clear_output()\n",
        "\n",
        "import ultralytics\n",
        "ultralytics.checks()\n",
        "\n",
        "%cd {HOME}\n",
        "!git clone https://github.com/ifzhang/ByteTrack.git\n",
        "%cd {HOME}/ByteTrack\n",
        "\n",
        "# workaround related to https://github.com/roboflow/notebooks/issues/80\n",
        "!sed -i 's/onnx==1.8.1/onnx==1.9.0/g' requirements.txt\n",
        "!pip install yt_dlp\n",
        "!pip3 install -q -r requirements.txt\n",
        "!python3 setup.py -q develop\n",
        "!pip install -q cython_bbox\n",
        "!pip install -q onemetric\n",
        "# workaround related to https://github.com/roboflow/notebooks/issues/112 and https://github.com/roboflow/notebooks/issues/106\n",
        "!pip install -q loguru lap thop\n",
        "\n",
        "from IPython import display\n",
        "display.clear_output()\n",
        "\n",
        "\n",
        "import sys\n",
        "sys.path.append(f\"{HOME}/ByteTrack\")\n",
        "\n",
        "\n",
        "import yolox\n",
        "print(\"yolox.__version__:\", yolox.__version__)\n",
        "\n",
        "from yolox.tracker.byte_tracker import BYTETracker, STrack\n",
        "from onemetric.cv.utils.iou import box_iou_batch\n",
        "from dataclasses import dataclass\n"
      ]
    },
    {
      "cell_type": "code",
      "execution_count": null,
      "metadata": {
        "id": "KyqYM46LGcVI"
      },
      "outputs": [],
      "source": [
        "import shutil\n",
        "shutil.copy('/content/drive/MyDrive/arkitek_fobi_analiz/useful_codes/ultralytics/plotting.py','/usr/local/lib/python3.10/dist-packages/ultralytics/utils/')"
      ]
    },
    {
      "cell_type": "code",
      "execution_count": null,
      "metadata": {
        "colab": {
          "base_uri": "https://localhost:8080/"
        },
        "id": "c4okzdHlKMaj",
        "outputId": "bf7e6422-6c47-4d8e-d127-d7fb4ff856ef"
      },
      "outputs": [
        {
          "output_type": "stream",
          "name": "stdout",
          "text": [
            "supervision.__version__: 0.1.0\n"
          ]
        }
      ],
      "source": [
        "@dataclass(frozen=True)\n",
        "class BYTETrackerArgs:\n",
        "    track_thresh: float = 0.25\n",
        "    track_buffer: int = 60\n",
        "    match_thresh: float = 0.80\n",
        "    aspect_ratio_thresh: float = 3.0\n",
        "    min_box_area: float = 1.0\n",
        "    mot20: bool = False\n",
        "\n",
        "\n",
        "\n",
        "!pip install supervision==0.1.0\n",
        "\n",
        "\n",
        "from IPython import display\n",
        "display.clear_output()\n",
        "\n",
        "\n",
        "import supervision\n",
        "print(\"supervision.__version__:\", supervision.__version__)\n",
        "\n",
        "\n",
        "from supervision.draw.color import ColorPalette\n",
        "from supervision.geometry.dataclasses import Point\n",
        "from supervision.video.dataclasses import VideoInfo\n",
        "from supervision.video.source import get_video_frames_generator\n",
        "from supervision.video.sink import VideoSink\n",
        "from supervision.notebook.utils import show_frame_in_notebook\n",
        "from supervision.tools.detections import Detections, BoxAnnotator\n",
        "from supervision.tools.line_counter import LineCounter, LineCounterAnnotator\n",
        "\n",
        "from typing import List\n",
        "import yt_dlp\n",
        "import numpy as np\n",
        "import unicodedata\n",
        "\n",
        "#rename files function work with a list\n",
        "\"\"\"\n",
        "old_char_list: değiştirilmesi istenen karakter listesi alır\n",
        "new_char: string değeri alır\n",
        "\n",
        "old_char_list listesinin tüm elemanlarını dosya ismi ve eklentisini ayırır ve dosya isminde varsa new_char ile değiştirir\n",
        "\"\"\"\n",
        "def rename_file_replace_char(file_path, old_char_list, new_char):\n",
        "    filename = os.path.basename(file_path)\n",
        "    for old_char in old_char_list:\n",
        "        filename = filename.replace(old_char, new_char)\n",
        "\n",
        "    new_file_path = os.path.join(os.path.dirname(file_path), filename)\n",
        "    os.rename(file_path, new_file_path)\n",
        "\n",
        "\n",
        "\n",
        "#download a youtube playlist function\n",
        "\n",
        "def download_playlist(playlist_url, output_folder):\n",
        "    ydl_opts = {\n",
        "        'format': 'best',\n",
        "        'quiet': False,\n",
        "        'outtmpl': os.path.join(output_folder, '%(playlist_index)s - %(title)s.%(ext)s'),\n",
        "    }\n",
        "\n",
        "    with yt_dlp.YoutubeDL(ydl_opts) as ydl:\n",
        "        try:\n",
        "            ydl.download([playlist_url])\n",
        "        except:\n",
        "             pass\n",
        "\n",
        "def download_video(video_url, output_folder):\n",
        "    ydl_opts = {\n",
        "        'format': 'best',\n",
        "        'quiet': False,\n",
        "        'outtmpl': os.path.join(output_folder, '%(title)s.%(ext)s'),\n",
        "    }\n",
        "\n",
        "    with yt_dlp.YoutubeDL(ydl_opts) as ydl:\n",
        "        try:\n",
        "            ydl.download([video_url])\n",
        "            print(\"Video indirme tamamlandı.\")\n",
        "        except Exception as e:\n",
        "            print(f'Hata oluştu: {str(e)}')\n",
        "\n",
        "\n",
        "\n",
        "\n",
        "# converts Detections into format that can be consumed by match_detections_with_tracks function\n",
        "def detections2boxes(detections: Detections) -> np.ndarray:\n",
        "    return np.hstack((\n",
        "        detections.xyxy,\n",
        "        detections.confidence[:, np.newaxis]\n",
        "    ))\n",
        "\n",
        "\n",
        "# converts List[STrack] into format that can be consumed by match_detections_with_tracks function\n",
        "def tracks2boxes(tracks: List[STrack]) -> np.ndarray:\n",
        "    return np.array([\n",
        "        track.tlbr\n",
        "        for track\n",
        "        in tracks\n",
        "    ], dtype=float)\n",
        "\n",
        "\n",
        "# matches our bounding boxes with predictions\n",
        "def match_detections_with_tracks(\n",
        "    detections: Detections,\n",
        "    tracks: List[STrack]\n",
        ") -> Detections:\n",
        "    if not np.any(detections.xyxy) or len(tracks) == 0:\n",
        "        return np.empty((0,))\n",
        "\n",
        "    tracks_boxes = tracks2boxes(tracks=tracks)\n",
        "    iou = box_iou_batch(tracks_boxes, detections.xyxy)\n",
        "    track2detection = np.argmax(iou, axis=1)\n",
        "\n",
        "    tracker_ids = [None] * len(detections)\n",
        "\n",
        "    for tracker_index, detection_index in enumerate(track2detection):\n",
        "        if iou[tracker_index, detection_index] != 0:\n",
        "            tracker_ids[detection_index] = tracks[tracker_index].track_id\n",
        "\n",
        "    return tracker_ids\n",
        "\n"
      ]
    },
    {
      "cell_type": "code",
      "execution_count": null,
      "metadata": {
        "id": "mGwOz11A0zVd"
      },
      "outputs": [],
      "source": [
        "# !pip install pytube\n",
        "from IPython import display\n",
        "display.clear_output()"
      ]
    },
    {
      "cell_type": "code",
      "execution_count": null,
      "metadata": {
        "id": "zGODgeecWERv"
      },
      "outputs": [],
      "source": [
        "# from pytube import YouTube\n",
        "\n",
        "# # Replace 'YOUR_VIDEO_URL' with the URL of the YouTube video you want to download\n",
        "# video_url = 'https://youtu.be/OEoTLl2Kgvo?si=8EYBUqxW-BBKdwKi'\n",
        "\n",
        "# # Create a YouTube object\n",
        "# yt = YouTube(video_url)\n",
        "\n",
        "# # Get the stream with the highest resolution\n",
        "# highest_resolution_stream = yt.streams.get_highest_resolution()\n",
        "\n",
        "# # Print information about the selected stream (optional)\n",
        "# print(\"Video Title:\", yt.title)\n",
        "# print(\"Resolution:\", highest_resolution_stream.resolution)\n",
        "# print(\"File Size:\", highest_resolution_stream.filesize)\n",
        "\n",
        "# # Set the path where you want to save the video\n",
        "# # Replace 'YOUR_DOWNLOAD_PATH' with your desired file path\n",
        "\n",
        "# # Download the video to the specified path\n",
        "# highest_resolution_stream.download(output_path=\"/content/\")\n",
        "\n",
        "# print(\"Video downloaded successfully!\")\n",
        "# video_path = \"/content/\" + yt.title + \".mp4\"\n",
        "# SOURCE_VIDEO_PATH = video_path\n",
        "# print(SOURCE_VIDEO_PATH)\n",
        "# HOME = \"/content\""
      ]
    },
    {
      "cell_type": "code",
      "execution_count": null,
      "metadata": {
        "id": "AnY_CbrX5l90"
      },
      "outputs": [],
      "source": [
        "HOME = \"/content/\"\n",
        "videos_path = \"/content/videos/\"\n",
        "if not os.path.exists(videos_path):\n",
        "        os.makedirs(videos_path)\n"
      ]
    },
    {
      "cell_type": "markdown",
      "metadata": {
        "id": "uyqjv8SdbhJd"
      },
      "source": [
        "# **VIDEO DOWNLOADER**"
      ]
    },
    {
      "cell_type": "code",
      "execution_count": null,
      "metadata": {
        "colab": {
          "base_uri": "https://localhost:8080/"
        },
        "id": "qKYWSfPgbXU8",
        "outputId": "34011aa6-6f7c-4e8c-fecd-955188d3f06e"
      },
      "outputs": [
        {
          "output_type": "stream",
          "name": "stdout",
          "text": [
            "Video indirme tamamlandı.\n"
          ]
        }
      ],
      "source": [
        "# @title\n",
        "video_url  = r'https://www.youtube.com/watch?v=59fsRDsJh48'\n",
        "download_video(video_url,videos_path)\n",
        "display.clear_output()\n",
        "print('Video indirme tamamlandı.')"
      ]
    },
    {
      "cell_type": "code",
      "execution_count": null,
      "metadata": {
        "colab": {
          "base_uri": "https://localhost:8080/"
        },
        "id": "m3FMq5FcUsRc",
        "outputId": "a92685e7-d1b5-4013-ec41-dc3a63ed84de"
      },
      "outputs": [
        {
          "output_type": "stream",
          "name": "stderr",
          "text": [
            "YOLOv8x summary (fused): 268 layers, 68200608 parameters, 0 gradients\n"
          ]
        },
        {
          "output_type": "stream",
          "name": "stdout",
          "text": [
            "{0: 'person', 1: 'bicycle', 2: 'car', 3: 'motorcycle', 4: 'airplane', 5: 'bus', 6: 'train', 7: 'truck', 8: 'boat', 9: 'traffic light', 10: 'fire hydrant', 11: 'stop sign', 12: 'parking meter', 13: 'bench', 14: 'bird', 15: 'cat', 16: 'dog', 17: 'horse', 18: 'sheep', 19: 'cow', 20: 'elephant', 21: 'bear', 22: 'zebra', 23: 'giraffe', 24: 'backpack', 25: 'umbrella', 26: 'handbag', 27: 'tie', 28: 'suitcase', 29: 'frisbee', 30: 'skis', 31: 'snowboard', 32: 'sports ball', 33: 'kite', 34: 'baseball bat', 35: 'baseball glove', 36: 'skateboard', 37: 'surfboard', 38: 'tennis racket', 39: 'bottle', 40: 'wine glass', 41: 'cup', 42: 'fork', 43: 'knife', 44: 'spoon', 45: 'bowl', 46: 'banana', 47: 'apple', 48: 'sandwich', 49: 'orange', 50: 'broccoli', 51: 'carrot', 52: 'hot dog', 53: 'pizza', 54: 'donut', 55: 'cake', 56: 'chair', 57: 'couch', 58: 'potted plant', 59: 'bed', 60: 'dining table', 61: 'toilet', 62: 'tv', 63: 'laptop', 64: 'mouse', 65: 'remote', 66: 'keyboard', 67: 'cell phone', 68: 'microwave', 69: 'oven', 70: 'toaster', 71: 'sink', 72: 'refrigerator', 73: 'book', 74: 'clock', 75: 'vase', 76: 'scissors', 77: 'teddy bear', 78: 'hair drier', 79: 'toothbrush'}\n"
          ]
        }
      ],
      "source": [
        "from ultralytics import YOLO\n",
        "\n",
        "model = YOLO('yolov8x.pt')\n",
        "model.fuse()\n",
        "\n",
        "# dict maping class_id to class_name\n",
        "CLASS_NAMES_DICT = model.model.names\n",
        "print(CLASS_NAMES_DICT)\n",
        "# class_ids of interest - car, motorcycle, bus and truck\n",
        "CLASS_ID = [14,15,16]"
      ]
    },
    {
      "cell_type": "code",
      "execution_count": null,
      "metadata": {
        "id": "W8LXeFf6lgki"
      },
      "outputs": [],
      "source": [
        "@dataclass(frozen=True)\n",
        "class BYTETrackerArgs:\n",
        "    track_thresh: float = 0.25\n",
        "    track_buffer: int = 60\n",
        "    match_thresh: float = 0.80\n",
        "    aspect_ratio_thresh: float = 3.0\n",
        "    min_box_area: float = 1.0\n",
        "    mot20: bool = False\n"
      ]
    },
    {
      "cell_type": "code",
      "execution_count": null,
      "metadata": {
        "colab": {
          "base_uri": "https://localhost:8080/",
          "height": 72,
          "referenced_widgets": [
            "409636eb5dd54139bfa1a8089a83fad6",
            "49ce46a389ef4bb5b3dfe00f4ad3c240",
            "258b7e14b9844333b81d8bff48c19429",
            "03874ddd0c1541c9ab06db0ca83b4f50",
            "e59dc53adc6c4fbcb2de544ff0504f9a",
            "5622ea8195e3496ab77197e04a2e0d56",
            "efd9ff3c0f794463ab90cbd21982edd9",
            "b5455b9d61ea4f989807dddbdd6f896d",
            "e37fdc90fe3b4f1e8473ffd1ccb0c38d",
            "f56765a2cf7449cc9eda7586acedc5ef",
            "619d4ccd46344810944eb48cbc708027"
          ]
        },
        "id": "Q9ppb7bFvWfc",
        "outputId": "2bc5a037-39d8-442c-c555-563bfcb0735c"
      },
      "outputs": [
        {
          "output_type": "stream",
          "name": "stdout",
          "text": [
            "High Anxiety (1977) - The Birds [HD].mp4\n"
          ]
        },
        {
          "output_type": "display_data",
          "data": {
            "text/plain": [
              "  0%|          | 0/3697 [00:00<?, ?it/s]"
            ],
            "application/vnd.jupyter.widget-view+json": {
              "version_major": 2,
              "version_minor": 0,
              "model_id": "409636eb5dd54139bfa1a8089a83fad6"
            }
          },
          "metadata": {}
        }
      ],
      "source": [
        "from tqdm.notebook import tqdm\n",
        "import gc\n",
        "for root,dirs,files in os.walk(videos_path):\n",
        "    for file in files:\n",
        "      SOURCE_VIDEO_PATH = os.path.join(root,file)\n",
        "      file_name = file.split('/')[0]\n",
        "      print(file_name)\n",
        "      TARGET_VIDEO_PATH = f\"/content/drive/MyDrive/{file_name}.mp4\"\n",
        "      # create BYTETracker instance\n",
        "      byte_tracker = BYTETracker(BYTETrackerArgs())\n",
        "      # create VideoInfo instance\n",
        "      video_info = VideoInfo.from_video_path(SOURCE_VIDEO_PATH)\n",
        "      # create frame generator\n",
        "      generator = get_video_frames_generator(SOURCE_VIDEO_PATH)\n",
        "      # create LineCounter instance\n",
        "      #line_counter = LineCounter(start=LINE_START, end=LINE_END)\n",
        "      # create instance of BoxAnnotator and LineCounterAnnotator\n",
        "      box_annotator = BoxAnnotator(color=ColorPalette(), thickness=2, text_thickness=2, text_scale=1)\n",
        "      line_annotator = LineCounterAnnotator(thickness=4, text_thickness=4, text_scale=2)\n",
        "\n",
        "      # open target video file\n",
        "      with VideoSink(TARGET_VIDEO_PATH, video_info) as sink:\n",
        "          # loop over video frames\n",
        "          for frame in tqdm(generator, total=video_info.total_frames):\n",
        "              # model prediction on single frame and conversion to supervision Detections\n",
        "              results = model(frame,verbose = False)\n",
        "              detections = Detections(\n",
        "                  xyxy=results[0].boxes.xyxy.cpu().numpy(),\n",
        "                  confidence=results[0].boxes.conf.cpu().numpy(),\n",
        "                  class_id=results[0].boxes.cls.cpu().numpy().astype(int)\n",
        "              )\n",
        "              # filtering out detections with unwanted classes\n",
        "              mask = np.array([class_id in CLASS_ID for class_id in detections.class_id], dtype=bool)\n",
        "              detections.filter(mask=mask, inplace=True)\n",
        "              # tracking detections\n",
        "              tracks = byte_tracker.update(\n",
        "                  output_results=detections2boxes(detections=detections),\n",
        "                  img_info=frame.shape,\n",
        "                  img_size=frame.shape\n",
        "              )\n",
        "              tracker_id = match_detections_with_tracks(detections=detections, tracks=tracks)\n",
        "              detections.tracker_id = np.array(tracker_id)\n",
        "              # filtering out detections without trackers\n",
        "              mask = np.array([tracker_id is not None for tracker_id in detections.tracker_id], dtype=bool)\n",
        "              detections.filter(mask=mask, inplace=True)\n",
        "              # format custom labels\n",
        "              labels = [\n",
        "                  f\"#{tracker_id} {CLASS_NAMES_DICT[class_id]} {confidence:0.2f}\"\n",
        "                  for _, confidence, class_id, tracker_id\n",
        "                  in detections\n",
        "              ]\n",
        "              # updating line counter\n",
        "      #        line_counter.update(detections=detections)\n",
        "              # annotate and display frame\n",
        "              frame = box_annotator.annotate(frame=frame, detections=detections, labels=labels)\n",
        "      #        line_annotator.annotate(frame=frame, line_counter=line_counter)\n",
        "              sink.write_frame(frame)\n",
        "          gc.collect()"
      ]
    },
    {
      "cell_type": "markdown",
      "metadata": {
        "id": "FMiFSEV9RIC-"
      },
      "source": [
        "## 🏆 Congratulations\n",
        "\n",
        "### Learning Resources\n",
        "\n",
        "Roboflow has produced many resources that you may find interesting as you advance your knowledge of computer vision:\n",
        "\n",
        "- [Roboflow Notebooks](https://github.com/roboflow/notebooks): A repository of over 20 notebooks that walk through how to train custom models with a range of model types, from YOLOv7 to SegFormer.\n",
        "- [Roboflow YouTube](https://www.youtube.com/c/Roboflow): Our library of videos featuring deep dives into the latest in computer vision, detailed tutorials that accompany our notebooks, and more.\n",
        "- [Roboflow Discuss](https://discuss.roboflow.com/): Have a question about how to do something on Roboflow? Ask your question on our discussion forum.\n",
        "- [Roboflow Models](https://roboflow.com): Learn about state-of-the-art models and their performance. Find links and tutorials to guide your learning.\n",
        "\n",
        "### Convert data formats\n",
        "\n",
        "Roboflow provides free utilities to convert data between dozens of popular computer vision formats. Check out [Roboflow Formats](https://roboflow.com/formats) to find tutorials on how to convert data between formats in a few clicks.\n",
        "\n",
        "### Connect computer vision to your project logic\n",
        "\n",
        "[Roboflow Templates](https://roboflow.com/templates) is a public gallery of code snippets that you can use to connect computer vision to your project logic. Code snippets range from sending emails after inference to measuring object distance between detections."
      ]
    }
  ],
  "metadata": {
    "accelerator": "GPU",
    "colab": {
      "machine_shape": "hm",
      "provenance": [],
      "include_colab_link": true
    },
    "kernelspec": {
      "display_name": "Python 3",
      "name": "python3"
    },
    "language_info": {
      "name": "python"
    },
    "widgets": {
      "application/vnd.jupyter.widget-state+json": {
        "409636eb5dd54139bfa1a8089a83fad6": {
          "model_module": "@jupyter-widgets/controls",
          "model_name": "HBoxModel",
          "model_module_version": "1.5.0",
          "state": {
            "_dom_classes": [],
            "_model_module": "@jupyter-widgets/controls",
            "_model_module_version": "1.5.0",
            "_model_name": "HBoxModel",
            "_view_count": null,
            "_view_module": "@jupyter-widgets/controls",
            "_view_module_version": "1.5.0",
            "_view_name": "HBoxView",
            "box_style": "",
            "children": [
              "IPY_MODEL_49ce46a389ef4bb5b3dfe00f4ad3c240",
              "IPY_MODEL_258b7e14b9844333b81d8bff48c19429",
              "IPY_MODEL_03874ddd0c1541c9ab06db0ca83b4f50"
            ],
            "layout": "IPY_MODEL_e59dc53adc6c4fbcb2de544ff0504f9a"
          }
        },
        "49ce46a389ef4bb5b3dfe00f4ad3c240": {
          "model_module": "@jupyter-widgets/controls",
          "model_name": "HTMLModel",
          "model_module_version": "1.5.0",
          "state": {
            "_dom_classes": [],
            "_model_module": "@jupyter-widgets/controls",
            "_model_module_version": "1.5.0",
            "_model_name": "HTMLModel",
            "_view_count": null,
            "_view_module": "@jupyter-widgets/controls",
            "_view_module_version": "1.5.0",
            "_view_name": "HTMLView",
            "description": "",
            "description_tooltip": null,
            "layout": "IPY_MODEL_5622ea8195e3496ab77197e04a2e0d56",
            "placeholder": "​",
            "style": "IPY_MODEL_efd9ff3c0f794463ab90cbd21982edd9",
            "value": "100%"
          }
        },
        "258b7e14b9844333b81d8bff48c19429": {
          "model_module": "@jupyter-widgets/controls",
          "model_name": "FloatProgressModel",
          "model_module_version": "1.5.0",
          "state": {
            "_dom_classes": [],
            "_model_module": "@jupyter-widgets/controls",
            "_model_module_version": "1.5.0",
            "_model_name": "FloatProgressModel",
            "_view_count": null,
            "_view_module": "@jupyter-widgets/controls",
            "_view_module_version": "1.5.0",
            "_view_name": "ProgressView",
            "bar_style": "success",
            "description": "",
            "description_tooltip": null,
            "layout": "IPY_MODEL_b5455b9d61ea4f989807dddbdd6f896d",
            "max": 3697,
            "min": 0,
            "orientation": "horizontal",
            "style": "IPY_MODEL_e37fdc90fe3b4f1e8473ffd1ccb0c38d",
            "value": 3697
          }
        },
        "03874ddd0c1541c9ab06db0ca83b4f50": {
          "model_module": "@jupyter-widgets/controls",
          "model_name": "HTMLModel",
          "model_module_version": "1.5.0",
          "state": {
            "_dom_classes": [],
            "_model_module": "@jupyter-widgets/controls",
            "_model_module_version": "1.5.0",
            "_model_name": "HTMLModel",
            "_view_count": null,
            "_view_module": "@jupyter-widgets/controls",
            "_view_module_version": "1.5.0",
            "_view_name": "HTMLView",
            "description": "",
            "description_tooltip": null,
            "layout": "IPY_MODEL_f56765a2cf7449cc9eda7586acedc5ef",
            "placeholder": "​",
            "style": "IPY_MODEL_619d4ccd46344810944eb48cbc708027",
            "value": " 3697/3697 [03:06&lt;00:00, 20.19it/s]"
          }
        },
        "e59dc53adc6c4fbcb2de544ff0504f9a": {
          "model_module": "@jupyter-widgets/base",
          "model_name": "LayoutModel",
          "model_module_version": "1.2.0",
          "state": {
            "_model_module": "@jupyter-widgets/base",
            "_model_module_version": "1.2.0",
            "_model_name": "LayoutModel",
            "_view_count": null,
            "_view_module": "@jupyter-widgets/base",
            "_view_module_version": "1.2.0",
            "_view_name": "LayoutView",
            "align_content": null,
            "align_items": null,
            "align_self": null,
            "border": null,
            "bottom": null,
            "display": null,
            "flex": null,
            "flex_flow": null,
            "grid_area": null,
            "grid_auto_columns": null,
            "grid_auto_flow": null,
            "grid_auto_rows": null,
            "grid_column": null,
            "grid_gap": null,
            "grid_row": null,
            "grid_template_areas": null,
            "grid_template_columns": null,
            "grid_template_rows": null,
            "height": null,
            "justify_content": null,
            "justify_items": null,
            "left": null,
            "margin": null,
            "max_height": null,
            "max_width": null,
            "min_height": null,
            "min_width": null,
            "object_fit": null,
            "object_position": null,
            "order": null,
            "overflow": null,
            "overflow_x": null,
            "overflow_y": null,
            "padding": null,
            "right": null,
            "top": null,
            "visibility": null,
            "width": null
          }
        },
        "5622ea8195e3496ab77197e04a2e0d56": {
          "model_module": "@jupyter-widgets/base",
          "model_name": "LayoutModel",
          "model_module_version": "1.2.0",
          "state": {
            "_model_module": "@jupyter-widgets/base",
            "_model_module_version": "1.2.0",
            "_model_name": "LayoutModel",
            "_view_count": null,
            "_view_module": "@jupyter-widgets/base",
            "_view_module_version": "1.2.0",
            "_view_name": "LayoutView",
            "align_content": null,
            "align_items": null,
            "align_self": null,
            "border": null,
            "bottom": null,
            "display": null,
            "flex": null,
            "flex_flow": null,
            "grid_area": null,
            "grid_auto_columns": null,
            "grid_auto_flow": null,
            "grid_auto_rows": null,
            "grid_column": null,
            "grid_gap": null,
            "grid_row": null,
            "grid_template_areas": null,
            "grid_template_columns": null,
            "grid_template_rows": null,
            "height": null,
            "justify_content": null,
            "justify_items": null,
            "left": null,
            "margin": null,
            "max_height": null,
            "max_width": null,
            "min_height": null,
            "min_width": null,
            "object_fit": null,
            "object_position": null,
            "order": null,
            "overflow": null,
            "overflow_x": null,
            "overflow_y": null,
            "padding": null,
            "right": null,
            "top": null,
            "visibility": null,
            "width": null
          }
        },
        "efd9ff3c0f794463ab90cbd21982edd9": {
          "model_module": "@jupyter-widgets/controls",
          "model_name": "DescriptionStyleModel",
          "model_module_version": "1.5.0",
          "state": {
            "_model_module": "@jupyter-widgets/controls",
            "_model_module_version": "1.5.0",
            "_model_name": "DescriptionStyleModel",
            "_view_count": null,
            "_view_module": "@jupyter-widgets/base",
            "_view_module_version": "1.2.0",
            "_view_name": "StyleView",
            "description_width": ""
          }
        },
        "b5455b9d61ea4f989807dddbdd6f896d": {
          "model_module": "@jupyter-widgets/base",
          "model_name": "LayoutModel",
          "model_module_version": "1.2.0",
          "state": {
            "_model_module": "@jupyter-widgets/base",
            "_model_module_version": "1.2.0",
            "_model_name": "LayoutModel",
            "_view_count": null,
            "_view_module": "@jupyter-widgets/base",
            "_view_module_version": "1.2.0",
            "_view_name": "LayoutView",
            "align_content": null,
            "align_items": null,
            "align_self": null,
            "border": null,
            "bottom": null,
            "display": null,
            "flex": null,
            "flex_flow": null,
            "grid_area": null,
            "grid_auto_columns": null,
            "grid_auto_flow": null,
            "grid_auto_rows": null,
            "grid_column": null,
            "grid_gap": null,
            "grid_row": null,
            "grid_template_areas": null,
            "grid_template_columns": null,
            "grid_template_rows": null,
            "height": null,
            "justify_content": null,
            "justify_items": null,
            "left": null,
            "margin": null,
            "max_height": null,
            "max_width": null,
            "min_height": null,
            "min_width": null,
            "object_fit": null,
            "object_position": null,
            "order": null,
            "overflow": null,
            "overflow_x": null,
            "overflow_y": null,
            "padding": null,
            "right": null,
            "top": null,
            "visibility": null,
            "width": null
          }
        },
        "e37fdc90fe3b4f1e8473ffd1ccb0c38d": {
          "model_module": "@jupyter-widgets/controls",
          "model_name": "ProgressStyleModel",
          "model_module_version": "1.5.0",
          "state": {
            "_model_module": "@jupyter-widgets/controls",
            "_model_module_version": "1.5.0",
            "_model_name": "ProgressStyleModel",
            "_view_count": null,
            "_view_module": "@jupyter-widgets/base",
            "_view_module_version": "1.2.0",
            "_view_name": "StyleView",
            "bar_color": null,
            "description_width": ""
          }
        },
        "f56765a2cf7449cc9eda7586acedc5ef": {
          "model_module": "@jupyter-widgets/base",
          "model_name": "LayoutModel",
          "model_module_version": "1.2.0",
          "state": {
            "_model_module": "@jupyter-widgets/base",
            "_model_module_version": "1.2.0",
            "_model_name": "LayoutModel",
            "_view_count": null,
            "_view_module": "@jupyter-widgets/base",
            "_view_module_version": "1.2.0",
            "_view_name": "LayoutView",
            "align_content": null,
            "align_items": null,
            "align_self": null,
            "border": null,
            "bottom": null,
            "display": null,
            "flex": null,
            "flex_flow": null,
            "grid_area": null,
            "grid_auto_columns": null,
            "grid_auto_flow": null,
            "grid_auto_rows": null,
            "grid_column": null,
            "grid_gap": null,
            "grid_row": null,
            "grid_template_areas": null,
            "grid_template_columns": null,
            "grid_template_rows": null,
            "height": null,
            "justify_content": null,
            "justify_items": null,
            "left": null,
            "margin": null,
            "max_height": null,
            "max_width": null,
            "min_height": null,
            "min_width": null,
            "object_fit": null,
            "object_position": null,
            "order": null,
            "overflow": null,
            "overflow_x": null,
            "overflow_y": null,
            "padding": null,
            "right": null,
            "top": null,
            "visibility": null,
            "width": null
          }
        },
        "619d4ccd46344810944eb48cbc708027": {
          "model_module": "@jupyter-widgets/controls",
          "model_name": "DescriptionStyleModel",
          "model_module_version": "1.5.0",
          "state": {
            "_model_module": "@jupyter-widgets/controls",
            "_model_module_version": "1.5.0",
            "_model_name": "DescriptionStyleModel",
            "_view_count": null,
            "_view_module": "@jupyter-widgets/base",
            "_view_module_version": "1.2.0",
            "_view_name": "StyleView",
            "description_width": ""
          }
        }
      }
    }
  },
  "nbformat": 4,
  "nbformat_minor": 0
}