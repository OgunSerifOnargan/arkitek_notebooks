{
  "cells": [
    {
      "cell_type": "markdown",
      "metadata": {
        "id": "view-in-github",
        "colab_type": "text"
      },
      "source": [
        "<a href=\"https://colab.research.google.com/github/OgunSerifOnargan/arkitek_notebooks/blob/main/img_cls_train_uygar.ipynb\" target=\"_parent\"><img src=\"https://colab.research.google.com/assets/colab-badge.svg\" alt=\"Open In Colab\"/></a>"
      ]
    },
    {
      "cell_type": "code",
      "execution_count": null,
      "metadata": {
        "colab": {
          "base_uri": "https://localhost:8080/"
        },
        "id": "ahtXooNCsmMx",
        "outputId": "031432c4-62cc-4b54-f700-f8d26cb4c981"
      },
      "outputs": [
        {
          "output_type": "stream",
          "name": "stdout",
          "text": [
            "Mounted at /content/drive\n"
          ]
        }
      ],
      "source": [
        "from google.colab import drive\n",
        "from IPython import display\n",
        "drive.mount('/content/drive')"
      ]
    },
    {
      "cell_type": "code",
      "execution_count": null,
      "metadata": {
        "id": "PLUVf4MXtxLv"
      },
      "outputs": [],
      "source": [
        "!pip install ultralytics\n",
        "display.clear_output()"
      ]
    },
    {
      "cell_type": "code",
      "execution_count": null,
      "metadata": {
        "id": "PLnXarnI3M6-",
        "colab": {
          "base_uri": "https://localhost:8080/",
          "height": 212
        },
        "outputId": "bd9e6767-3926-4fe9-d008-cf78cb6ae8d3"
      },
      "outputs": [
        {
          "output_type": "error",
          "ename": "NameError",
          "evalue": "ignored",
          "traceback": [
            "\u001b[0;31m---------------------------------------------------------------------------\u001b[0m",
            "\u001b[0;31mNameError\u001b[0m                                 Traceback (most recent call last)",
            "\u001b[0;32m<ipython-input-3-2b29d15eded6>\u001b[0m in \u001b[0;36m<cell line: 1>\u001b[0;34m()\u001b[0m\n\u001b[0;32m----> 1\u001b[0;31m \u001b[0mshutil\u001b[0m\u001b[0;34m.\u001b[0m\u001b[0mrmtree\u001b[0m\u001b[0;34m(\u001b[0m\u001b[0;34m'/content/dataset'\u001b[0m\u001b[0;34m)\u001b[0m\u001b[0;34m\u001b[0m\u001b[0;34m\u001b[0m\u001b[0m\n\u001b[0m",
            "\u001b[0;31mNameError\u001b[0m: name 'shutil' is not defined"
          ]
        }
      ],
      "source": [
        "shutil.rmtree('/content/dataset')"
      ]
    },
    {
      "cell_type": "code",
      "execution_count": null,
      "metadata": {
        "colab": {
          "base_uri": "https://localhost:8080/",
          "height": 42
        },
        "id": "kjVtjmJh69kh",
        "outputId": "b9c91cb6-5062-467b-9a49-65e44d406768"
      },
      "outputs": [
        {
          "output_type": "execute_result",
          "data": {
            "text/plain": [
              "'/content/dataset/v3'"
            ],
            "application/vnd.google.colaboratory.intrinsic+json": {
              "type": "string"
            }
          },
          "metadata": {},
          "execution_count": 3
        }
      ],
      "source": [
        "import shutil\n",
        "shutil.copytree('/content/drive/MyDrive/classify/datasets/v3','/content/dataset/v3')\n"
      ]
    },
    {
      "cell_type": "code",
      "execution_count": null,
      "metadata": {
        "colab": {
          "base_uri": "https://localhost:8080/"
        },
        "id": "fROoRcB3sbXR",
        "outputId": "0315e7af-0401-410f-fa44-192c56bffafd"
      },
      "outputs": [
        {
          "output_type": "stream",
          "name": "stderr",
          "text": [
            "Ultralytics YOLOv8.0.190 🚀 Python-3.10.12 torch-2.0.1+cu118 CUDA:0 (NVIDIA A100-SXM4-40GB, 40514MiB)\n",
            "\u001b[34m\u001b[1mengine/trainer: \u001b[0mtask=classify, mode=train, model=yolov8x-cls.pt, data=/content/dataset/v3, epochs=100, patience=5, batch=30, imgsz=1024, save=True, save_period=-1, cache=False, device=None, workers=8, project=None, name=None, exist_ok=False, pretrained=True, optimizer=AdamW, verbose=True, seed=0, deterministic=True, single_cls=False, rect=False, cos_lr=False, close_mosaic=10, resume=False, amp=True, fraction=1.0, profile=False, freeze=None, overlap_mask=True, mask_ratio=4, dropout=0.0, val=True, split=val, save_json=False, save_hybrid=False, conf=None, iou=0.7, max_det=300, half=False, dnn=False, plots=True, source=None, show=False, save_txt=False, save_conf=False, save_crop=False, show_labels=True, show_conf=True, vid_stride=1, stream_buffer=False, line_width=None, visualize=False, augment=False, agnostic_nms=False, classes=None, retina_masks=False, boxes=True, format=torchscript, keras=False, optimize=False, int8=False, dynamic=False, simplify=False, opset=None, workspace=4, nms=False, lr0=1e-05, lrf=1e-05, momentum=0.937, weight_decay=0.0005, warmup_epochs=3.0, warmup_momentum=0.8, warmup_bias_lr=0.1, box=7.5, cls=0.5, dfl=1.5, pose=12.0, kobj=1.0, label_smoothing=0.0, nbs=64, hsv_h=0.015, hsv_s=0.7, hsv_v=0.4, degrees=0.0, translate=0.1, scale=0.5, shear=0.0, perspective=0.0, flipud=0.0, fliplr=0.5, mosaic=1.0, mixup=0.0, copy_paste=0.0, cfg=None, tracker=botsort.yaml, save_dir=runs/classify/train4\n",
            "\u001b[34m\u001b[1mtrain:\u001b[0m /content/dataset/v3/train... found 5478 images in 2 classes ✅ \n",
            "\u001b[34m\u001b[1mval:\u001b[0m /content/dataset/v3/val... found 1763 images in 2 classes ✅ \n",
            "\u001b[34m\u001b[1mtest:\u001b[0m /content/dataset/v3/test... found 2 images in 2 classes ✅ \n",
            "Overriding model.yaml nc=1000 with nc=2\n",
            "\n",
            "                   from  n    params  module                                       arguments                     \n",
            "  0                  -1  1      2320  ultralytics.nn.modules.conv.Conv             [3, 80, 3, 2]                 \n",
            "  1                  -1  1    115520  ultralytics.nn.modules.conv.Conv             [80, 160, 3, 2]               \n",
            "  2                  -1  3    436800  ultralytics.nn.modules.block.C2f             [160, 160, 3, True]           \n",
            "  3                  -1  1    461440  ultralytics.nn.modules.conv.Conv             [160, 320, 3, 2]              \n",
            "  4                  -1  6   3281920  ultralytics.nn.modules.block.C2f             [320, 320, 6, True]           \n",
            "  5                  -1  1   1844480  ultralytics.nn.modules.conv.Conv             [320, 640, 3, 2]              \n",
            "  6                  -1  6  13117440  ultralytics.nn.modules.block.C2f             [640, 640, 6, True]           \n",
            "  7                  -1  1   7375360  ultralytics.nn.modules.conv.Conv             [640, 1280, 3, 2]             \n",
            "  8                  -1  3  27865600  ultralytics.nn.modules.block.C2f             [1280, 1280, 3, True]         \n",
            "  9                  -1  1   1643522  ultralytics.nn.modules.head.Classify         [1280, 2]                     \n",
            "YOLOv8x-cls summary: 183 layers, 56144402 parameters, 56144402 gradients, 154.3 GFLOPs\n",
            "Transferred 300/302 items from pretrained weights\n",
            "\u001b[34m\u001b[1mTensorBoard: \u001b[0mStart with 'tensorboard --logdir runs/classify/train4', view at http://localhost:6006/\n",
            "\u001b[34m\u001b[1mAMP: \u001b[0mrunning Automatic Mixed Precision (AMP) checks with YOLOv8n...\n",
            "\u001b[34m\u001b[1mAMP: \u001b[0mchecks passed ✅\n",
            "\u001b[34m\u001b[1mtrain: \u001b[0mScanning /content/dataset/v3/train... 5478 images, 0 corrupt: 100%|██████████| 5478/5478 [00:00<?, ?it/s]\n",
            "\u001b[34m\u001b[1malbumentations: \u001b[0mRandomResizedCrop(p=1.0, height=1024, width=1024, scale=(0.5, 1.0), ratio=(0.75, 1.3333333333333333), interpolation=1), HorizontalFlip(p=0.5), ColorJitter(p=0.5, brightness=[0.6, 1.4], contrast=[0.6, 1.4], saturation=[0.30000000000000004, 1.7], hue=[-0.015, 0.015]), Normalize(p=1.0, mean=(0.0, 0.0, 0.0), std=(1.0, 1.0, 1.0), max_pixel_value=255.0), ToTensorV2(always_apply=True, p=1.0, transpose_mask=False)\n",
            "\u001b[34m\u001b[1mval: \u001b[0mScanning /content/dataset/v3/val... 1763 images, 0 corrupt: 100%|██████████| 1763/1763 [00:00<?, ?it/s]\n",
            "\u001b[34m\u001b[1moptimizer:\u001b[0m AdamW(lr=1e-05, momentum=0.937) with parameter groups 50 weight(decay=0.0), 51 weight(decay=0.00046875), 51 bias(decay=0.0)\n",
            "Image sizes 1024 train, 1024 val\n",
            "Using 8 dataloader workers\n",
            "Logging results to \u001b[1mruns/classify/train4\u001b[0m\n",
            "Starting training for 100 epochs...\n",
            "\n",
            "      Epoch    GPU_mem       loss  Instances       Size\n",
            "      1/100      38.8G     0.1134         18       1024: 100%|██████████| 183/183 [01:51<00:00,  1.65it/s]\n",
            "               classes   top1_acc   top5_acc: 100%|██████████| 30/30 [00:12<00:00,  2.40it/s]\n",
            "                   all      0.721          1\n",
            "\n",
            "      Epoch    GPU_mem       loss  Instances       Size\n",
            "      2/100      38.7G    0.08185         18       1024: 100%|██████████| 183/183 [01:43<00:00,  1.76it/s]\n",
            "               classes   top1_acc   top5_acc: 100%|██████████| 30/30 [00:12<00:00,  2.38it/s]\n",
            "                   all      0.731          1\n",
            "\n",
            "      Epoch    GPU_mem       loss  Instances       Size\n",
            "      3/100      38.5G    0.05887         18       1024: 100%|██████████| 183/183 [01:42<00:00,  1.78it/s]\n",
            "               classes   top1_acc   top5_acc: 100%|██████████| 30/30 [00:12<00:00,  2.39it/s]\n",
            "                   all      0.732          1\n",
            "\n",
            "      Epoch    GPU_mem       loss  Instances       Size\n",
            "      4/100      38.3G    0.04554         18       1024: 100%|██████████| 183/183 [01:43<00:00,  1.77it/s]\n",
            "               classes   top1_acc   top5_acc: 100%|██████████| 30/30 [00:12<00:00,  2.38it/s]\n",
            "                   all      0.731          1\n",
            "\n",
            "      Epoch    GPU_mem       loss  Instances       Size\n",
            "      5/100      38.5G    0.03883         18       1024: 100%|██████████| 183/183 [01:42<00:00,  1.78it/s]\n",
            "               classes   top1_acc   top5_acc: 100%|██████████| 30/30 [00:12<00:00,  2.47it/s]\n",
            "                   all      0.726          1\n",
            "\n",
            "      Epoch    GPU_mem       loss  Instances       Size\n",
            "      6/100      38.3G    0.03593         18       1024: 100%|██████████| 183/183 [01:42<00:00,  1.78it/s]\n",
            "               classes   top1_acc   top5_acc: 100%|██████████| 30/30 [00:12<00:00,  2.33it/s]\n",
            "                   all      0.744          1\n",
            "\n",
            "      Epoch    GPU_mem       loss  Instances       Size\n",
            "      7/100      38.5G    0.02857         18       1024: 100%|██████████| 183/183 [01:42<00:00,  1.78it/s]\n",
            "               classes   top1_acc   top5_acc: 100%|██████████| 30/30 [00:12<00:00,  2.41it/s]\n",
            "                   all      0.736          1\n",
            "\n",
            "      Epoch    GPU_mem       loss  Instances       Size\n",
            "      8/100      38.3G    0.02791         18       1024: 100%|██████████| 183/183 [01:43<00:00,  1.76it/s]\n",
            "               classes   top1_acc   top5_acc: 100%|██████████| 30/30 [00:12<00:00,  2.44it/s]\n",
            "                   all      0.737          1\n",
            "\n",
            "      Epoch    GPU_mem       loss  Instances       Size\n",
            "      9/100      38.5G    0.02319         18       1024: 100%|██████████| 183/183 [01:42<00:00,  1.78it/s]\n",
            "               classes   top1_acc   top5_acc: 100%|██████████| 30/30 [00:12<00:00,  2.37it/s]\n",
            "                   all      0.723          1\n",
            "\n",
            "      Epoch    GPU_mem       loss  Instances       Size\n",
            "     10/100      38.3G    0.02363         18       1024: 100%|██████████| 183/183 [01:42<00:00,  1.78it/s]\n",
            "               classes   top1_acc   top5_acc: 100%|██████████| 30/30 [00:12<00:00,  2.44it/s]\n",
            "                   all      0.733          1\n",
            "\n",
            "      Epoch    GPU_mem       loss  Instances       Size\n",
            "     11/100      38.5G    0.01903         18       1024: 100%|██████████| 183/183 [01:42<00:00,  1.78it/s]\n",
            "               classes   top1_acc   top5_acc: 100%|██████████| 30/30 [00:12<00:00,  2.35it/s]\n",
            "                   all      0.736          1\n",
            "Stopping training early as no improvement observed in last 5 epochs. Best results observed at epoch 6, best model saved as best.pt.\n",
            "To update EarlyStopping(patience=5) pass a new patience value, i.e. `patience=300` or use `patience=0` to disable EarlyStopping.\n",
            "\n",
            "11 epochs completed in 0.366 hours.\n",
            "Optimizer stripped from runs/classify/train4/weights/last.pt, 112.5MB\n",
            "Optimizer stripped from runs/classify/train4/weights/best.pt, 112.5MB\n",
            "\n",
            "Validating runs/classify/train4/weights/best.pt...\n",
            "Ultralytics YOLOv8.0.190 🚀 Python-3.10.12 torch-2.0.1+cu118 CUDA:0 (NVIDIA A100-SXM4-40GB, 40514MiB)\n",
            "YOLOv8x-cls summary (fused): 133 layers, 56125762 parameters, 0 gradients, 153.8 GFLOPs\n",
            "\u001b[34m\u001b[1mtrain:\u001b[0m /content/dataset/v3/train... found 5478 images in 2 classes ✅ \n",
            "\u001b[34m\u001b[1mval:\u001b[0m /content/dataset/v3/val... found 1763 images in 2 classes ✅ \n",
            "\u001b[34m\u001b[1mtest:\u001b[0m /content/dataset/v3/test... found 2 images in 2 classes ✅ \n",
            "               classes   top1_acc   top5_acc: 100%|██████████| 30/30 [00:13<00:00,  2.18it/s]\n",
            "                   all      0.744          1\n",
            "Speed: 1.7ms preprocess, 5.4ms inference, 0.0ms loss, 0.0ms postprocess per image\n",
            "Results saved to \u001b[1mruns/classify/train4\u001b[0m\n",
            "Results saved to \u001b[1mruns/classify/train4\u001b[0m\n"
          ]
        }
      ],
      "source": [
        "import gc\n",
        "from ultralytics import YOLO\n",
        "import os\n",
        "import shutil\n",
        "\n",
        "gc.collect()\n",
        "\n",
        "dataset = '/content/dataset/v3'\n",
        "# Load a model\n",
        "model = YOLO('yolov8x-cls.pt')  # load a pretrained model (recommended for training)\n",
        "# Train the model\n",
        "results = model.train(data=dataset,\n",
        "                      epochs=100,\n",
        "                      patience=5,\n",
        "                      imgsz=1024,\n",
        "                      lr0 = 1e-5,\n",
        "                      lrf = 1e-5,\n",
        "                      optimizer = 'AdamW',\n",
        "                      batch=30,\n",
        "                      augment=False)\n"
      ]
    },
    {
      "cell_type": "code",
      "execution_count": null,
      "metadata": {
        "id": "jP2Cg8ctCkOq",
        "colab": {
          "base_uri": "https://localhost:8080/",
          "height": 42
        },
        "outputId": "18a49965-1a00-4c7d-9e27-326dcdba3d46"
      },
      "outputs": [
        {
          "output_type": "execute_result",
          "data": {
            "text/plain": [
              "'/content/drive/MyDrive/classify/colab_runs/classify/fearofheight_nonheight_30-09_2'"
            ],
            "application/vnd.google.colaboratory.intrinsic+json": {
              "type": "string"
            }
          },
          "metadata": {},
          "execution_count": 2
        }
      ],
      "source": [
        "shutil.move('/content/runs','/content/drive/MyDrive/classify/colab_runs/classify/fearofheight_nonheight_30-09_2')"
      ]
    },
    {
      "cell_type": "code",
      "source": [],
      "metadata": {
        "id": "AcFODazrEfyB"
      },
      "execution_count": null,
      "outputs": []
    }
  ],
  "metadata": {
    "accelerator": "GPU",
    "colab": {
      "machine_shape": "hm",
      "provenance": [],
      "gpuType": "A100",
      "include_colab_link": true
    },
    "kernelspec": {
      "display_name": "Python 3",
      "name": "python3"
    },
    "language_info": {
      "name": "python"
    }
  },
  "nbformat": 4,
  "nbformat_minor": 0
}
